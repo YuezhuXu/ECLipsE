{
 "cells": [
  {
   "cell_type": "markdown",
   "id": "e1a76eb8",
   "metadata": {},
   "source": [
    "# LipConstEstimator: IPython Demo\n",
    "This notebook is a brief demo for the package ECLispE."
   ]
  },
  {
   "cell_type": "code",
   "execution_count": 1,
   "id": "3e338754",
   "metadata": {},
   "outputs": [],
   "source": [
    "import os\n",
    "# Prevent OpenMP/MKL fights between torch/numpy/scs on Windows\n",
    "os.environ[\"OMP_NUM_THREADS\"] = \"1\"\n",
    "os.environ[\"MKL_NUM_THREADS\"] = \"1\"\n",
    "os.environ[\"KMP_DUPLICATE_LIB_OK\"] = \"TRUE\"\n",
    "\n",
    "import torch.nn as nn\n",
    "import numpy as np\n",
    "from python.LipConstEstimator import LipConstEstimator\n",
    "import os\n",
    "import torch"
   ]
  },
  {
   "cell_type": "markdown",
   "id": "14498828",
   "metadata": {},
   "source": [
    "## Create Estimator by Torch Model"
   ]
  },
  {
   "cell_type": "code",
   "execution_count": 2,
   "id": "8403cd47",
   "metadata": {},
   "outputs": [
    {
     "name": "stdout",
     "output_type": "stream",
     "text": [
      "MODEL INFO\n",
      "Layer #0: input size = 10, output size = 20, activation = ReLU.\n",
      "Layer #1: input size = 20, output size = 5, activation = Sigmoid.\n",
      "REMARK: ONLY FULLY CONNECT NEURAL NETS ARE APPLICABLE IN THIS ESTIMATOR.\n"
     ]
    }
   ],
   "source": [
    "class SimpleNet(nn.Module):\n",
    "    def __init__(self):\n",
    "        super().__init__()\n",
    "        self.fc1 = nn.Linear(10, 20)\n",
    "        self.act1 = nn.ReLU()\n",
    "        self.fc2 = nn.Linear(20, 5)\n",
    "        self.act2 = nn.Sigmoid()\n",
    "    \n",
    "    def forward(self, x):\n",
    "        x = self.act1(self.fc1(x))\n",
    "        return self.act2(self.fc2(x))\n",
    "\n",
    "model = SimpleNet()\n",
    "est = LipConstEstimator(model=model)\n",
    "est.model_review()\n"
   ]
  },
  {
   "cell_type": "code",
   "execution_count": 3,
   "id": "4a063bf6-04a6-4e83-95f3-1f242da770fc",
   "metadata": {},
   "outputs": [
    {
     "name": "stderr",
     "output_type": "stream",
     "text": [
      "C:\\Users\\22384\\anaconda3\\Lib\\site-packages\\scs\\__init__.py:96: UserWarning: Converting A to a CSC (compressed sparse column) matrix; may take a while.\n",
      "  warn(\n"
     ]
    },
    {
     "name": "stdout",
     "output_type": "stream",
     "text": [
      "Trivial Lip Const = 3.452872006114886\n",
      "EClipsE Fast Lip Const = 0.8026592986092945\n",
      "EClipsE Lip Const = 0.7226857738027781\n",
      "Ratio Fast = 0.23246135309615296\n",
      "Ratio Acc = 0.2092999023777693\n"
     ]
    }
   ],
   "source": [
    "lip_trivial = est.estimate(method='trivial')\n",
    "lip_fast = est.estimate(method='ECLipsE_Fast')\n",
    "lip_acc = est.estimate(method='ECLipsE')\n",
    "print(f'Trivial Lip Const = {lip_trivial}')\n",
    "print(f'EClipsE Fast Lip Const = {lip_fast}')\n",
    "print(f'EClipsE Lip Const = {lip_acc}')\n",
    "print(f'Ratio Fast = {lip_fast / lip_trivial}')\n",
    "print(f'Ratio Acc = {lip_acc / lip_trivial}')"
   ]
  },
  {
   "cell_type": "markdown",
   "id": "b0a29512",
   "metadata": {},
   "source": [
    "## Create Estimator by Given Weights"
   ]
  },
  {
   "cell_type": "code",
   "execution_count": 4,
   "id": "a50887b0",
   "metadata": {},
   "outputs": [
    {
     "name": "stdout",
     "output_type": "stream",
     "text": [
      "Trivial Lip Const = 0.9676370477588296\n",
      "EclipsE Fast Lip Const = 0.8090351972788796\n",
      "Ratio = 0.8360936563484294\n"
     ]
    }
   ],
   "source": [
    "weights_npz = np.load('sampleweights' + os.sep + 'npz' + os.sep + 'lyr' + str(2) + 'n' + str(80) + 'test' + str(1) + '.npz')\n",
    "weights = []\n",
    "for i in range(1,2+1):\n",
    "    weights.append(torch.tensor(weights_npz['w'+str(i)]))\n",
    "est = LipConstEstimator(weights=weights)\n",
    "lip_trivial = est.estimate(method='trivial')\n",
    "lip_fast = est.estimate(method='ECLipsE_Fast')\n",
    "print(f'Trivial Lip Const = {lip_trivial}')\n",
    "print(f'EclipsE Fast Lip Const = {lip_fast}')\n",
    "print(f'Ratio = {lip_fast / lip_trivial}')"
   ]
  },
  {
   "cell_type": "markdown",
   "id": "04407462-0450-4ec9-a4fe-a7870ff4fba1",
   "metadata": {},
   "source": [
    "## Create Estimator by Nothing (Randomly Generate a FNN)"
   ]
  },
  {
   "cell_type": "code",
   "execution_count": 5,
   "id": "85c3148b",
   "metadata": {},
   "outputs": [
    {
     "name": "stdout",
     "output_type": "stream",
     "text": [
      "Trivial Lip Const = 74.038904541446\n",
      "EclipsE Fast Lip Const = 57.879768083601235\n",
      "Ratio = 0.7817480342540847\n"
     ]
    }
   ],
   "source": [
    "est = LipConstEstimator()\n",
    "est.generate_random_weights([10,40,3])\n",
    "lip_trivial = est.estimate(method='trivial')\n",
    "lip_fast = est.estimate(method='ECLipsE_Fast')\n",
    "print(f'Trivial Lip Const = {lip_trivial}')\n",
    "print(f'EclipsE Fast Lip Const = {lip_fast}')\n",
    "print(f'Ratio = {lip_fast / lip_trivial}')"
   ]
  }
 ],
 "metadata": {
  "kernelspec": {
   "display_name": "Python [conda env:base] *",
   "language": "python",
   "name": "conda-base-py"
  },
  "language_info": {
   "codemirror_mode": {
    "name": "ipython",
    "version": 3
   },
   "file_extension": ".py",
   "mimetype": "text/x-python",
   "name": "python",
   "nbconvert_exporter": "python",
   "pygments_lexer": "ipython3",
   "version": "3.12.7"
  }
 },
 "nbformat": 4,
 "nbformat_minor": 5
}
